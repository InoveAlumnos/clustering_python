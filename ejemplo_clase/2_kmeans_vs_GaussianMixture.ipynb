{
 "cells": [
  {
   "cell_type": "markdown",
   "metadata": {
    "id": "XYMFEHCasvdV"
   },
   "source": [
    "<a href=\"https://www.inove.com.ar\"><img src=\"https://raw.githubusercontent.com/InoveAlumnos/dataset_analytics_python/master/images/PA%20Banner.png\" width=\"1000\" align=\"center\"></a>\n",
    "\n",
    "\n",
    "# kmeans vs GaussianMixture\n",
    "\n",
    "Ejemplo: Comparación entre\n",
    "kmeans y GaussianMixture\n",
    "<br>\n",
    "v2.0"
   ]
  },
  {
   "cell_type": "markdown",
   "metadata": {
    "id": "RZ1-qmC3tdDE"
   },
   "source": [
    "### Objetivos: \n",
    "*  Construir modelos kmeans y GaussianMixture empleando el dataset \"FuelConsumptionCo2\".\n",
    "*  Comparar los resultados de los modelos kmeans y GaussianMixture en el dataset \"FuelConsumptionCo2\"."
   ]
  },
  {
   "cell_type": "code",
   "execution_count": null,
   "metadata": {
    "id": "QUnj2PlEtI0t"
   },
   "outputs": [],
   "source": [
    "#Librerias a implementar\n",
    "import os\n",
    "import platform\n",
    "\n",
    "import numpy as np\n",
    "import matplotlib.pyplot as plt\n",
    "import seaborn as sns\n",
    "import pandas as pd"
   ]
  },
  {
   "cell_type": "markdown",
   "metadata": {
    "id": "DlRmlKu8uxIM"
   },
   "source": [
    "# Recolectar datos\n",
    "<img src=\"https://raw.githubusercontent.com/InoveAlumnos/dataset_analytics_python/master/images/Pipeline1.png\" width=\"1000\" align=\"middle\">"
   ]
  },
  {
   "cell_type": "markdown",
   "metadata": {
    "id": "Co9iWf1yujt1"
   },
   "source": [
    "### Código de descarga del dataset"
   ]
  },
  {
   "cell_type": "code",
   "execution_count": null,
   "metadata": {
    "id": "LbTPTD3EulD8"
   },
   "outputs": [],
   "source": [
    "if os.access('FuelConsumptionCo2.csv', os.F_OK) is False:\n",
    "    if platform.system() == 'Windows':\n",
    "        !curl https://raw.githubusercontent.com/InoveAlumnos/dataset_analytics_python/master/FuelConsumptionCo2.csv > FuelConsumptionCo2.csv\n",
    "    else:\n",
    "        !wget FuelConsumptionCo2.csv https://raw.githubusercontent.com/InoveAlumnos/dataset_analytics_python/master/FuelConsumptionCo2.csv"
   ]
  },
  {
   "cell_type": "markdown",
   "metadata": {
    "id": "5EMRMAofvCFx"
   },
   "source": [
    "# Procesar datos\n",
    "<img src=\"https://raw.githubusercontent.com/InoveAlumnos/dataset_analytics_python/master/images/Pipeline2.png\" width=\"1000\" align=\"middle\">"
   ]
  },
  {
   "cell_type": "code",
   "execution_count": null,
   "metadata": {
    "id": "eSw9hWHNu-k8"
   },
   "outputs": [],
   "source": [
    "# Realizar una inspeccion del dataset en búsqueda de elementos faltantes\n",
    "# Una vez descargado el archivo en Colab.\n",
    "# Leerlo con Pandas y el método read_csv\n",
    "# Una vez extraida toda la información se almacena en df\n",
    "# A partir de df y el método describe(), mostrará la descripción estadistica básica del archivo que se guardará en des\n",
    "# Crear una fila nueva llamada Nan en el DataFrame  des,\n",
    "# que indica la cantidad de datos tipo Nan que tiene cada columna.\n",
    "# Para crear una nueva fila, se utilizará el operador loc, donde se indica el nombre\n",
    "# de la nueva fila y con que valores se completará.\n",
    "# La información será de los datos faltantes df.isna().sum()\n",
    "# Crear una fila nueva llamada %Nan en el DataFrame des,\n",
    "# Esta fila se completará con los porcentajes de Nan encontrados en cada columna.\n",
    "df = pd.read_csv(\"FuelConsumptionCo2.csv\")\n",
    "des = df.describe()\n",
    "des.loc['Nan'] = df.isna().sum()\n",
    "des.loc['%Nan'] = (df.isna().mean())*100\n",
    "des"
   ]
  },
  {
   "cell_type": "code",
   "execution_count": null,
   "metadata": {
    "id": "XpNW1b1Gv-ld"
   },
   "outputs": [],
   "source": [
    "# Muestra las 5 primeras filas\n",
    "df.head()"
   ]
  },
  {
   "cell_type": "markdown",
   "metadata": {
    "id": "aCFMk0J-Lj8s"
   },
   "source": []
  },
  {
   "cell_type": "code",
   "execution_count": null,
   "metadata": {
    "id": "Hr8AYXcMyt0M"
   },
   "outputs": [],
   "source": [
    "# Se hace una copia\n",
    "df1 = df.copy()\n",
    "\n",
    "# Cambiando los nombres de las columnas\n",
    "df1.columns = ['AÑO', 'MARCA', 'MODELO', 'CLASE_VEHICULO', 'TAMAÑO_MOTOR', 'CILINDROS', 'TRANSMISION', 'TIPO_COMBUSTIBLE', 'CONSUMO_COMBUSTIBLE_CIUDAD', 'CONSUMO_COMBUSTIBLE_RUTA', 'CONSUMO_COMBUSTIBLE_COMB', 'CONSUMO_COMBUSTIBLE_COMB_MPG', 'EMISIONES_CO2']\n",
    "\n",
    "# Muestra las 5 primeras filas\n",
    "df1.head()"
   ]
  },
  {
   "cell_type": "markdown",
   "metadata": {
    "id": "aZVcFf2F14Mc"
   },
   "source": [
    "## Fin de la limpieza\n",
    "Se finalizó la limpieza, no hay datos mal cargados o incompletos en este dataset"
   ]
  },
  {
   "cell_type": "code",
   "execution_count": null,
   "metadata": {
    "id": "k0tKVExM16l8"
   },
   "outputs": [],
   "source": [
    "# Cantidad de filas y columnas con shape\n",
    "# En la ubicación 0 corresponde a las filas\n",
    "print('Cantidad de datos en observacion:', df.shape[0])"
   ]
  },
  {
   "cell_type": "markdown",
   "metadata": {
    "id": "TXbhCeKx2IyE"
   },
   "source": [
    "# Explorar datos\n",
    "<img src=\"https://raw.githubusercontent.com/InoveAlumnos/dataset_analytics_python/master/images/Pipeline3.png\" width=\"1000\" align=\"middle\">"
   ]
  },
  {
   "cell_type": "code",
   "execution_count": null,
   "metadata": {
    "id": "k9SHHL2o2NA0"
   },
   "outputs": [],
   "source": [
    "# Analizaremos como se compartan algunos atributos de entrada contra el objetivo (las emisiones, el Co2)\n",
    "# sns, alias de Seaborn\n",
    "# data, indicar todos los datos del DataFrame\n",
    "# x_vars, indicar las columnas a representar en el eje x\n",
    "# y_vars, indicar la columna a relacionar\n",
    "# height=5, altura de los gráficos\n",
    "# diag_kind=None, para indicar el tipo de diagonal, al ser None, significa ninguna.\n",
    "pp = sns.pairplot(data=df1, x_vars=['CILINDROS', 'TAMAÑO_MOTOR', 'CONSUMO_COMBUSTIBLE_COMB'], y_vars=['EMISIONES_CO2'], diag_kind=None, height=5)\n",
    "plt.show()\n"
   ]
  },
  {
   "cell_type": "markdown",
   "metadata": {
    "id": "sVBjkJTm4iu0"
   },
   "source": [
    "Analizaremos la relación entre le consumo de combustible combinado (CONSUMO_COMBUSTIBLE_COMB) y la emisión de CO2"
   ]
  },
  {
   "cell_type": "code",
   "execution_count": null,
   "metadata": {
    "id": "lEEHu8E64rY1"
   },
   "outputs": [],
   "source": [
    "# Representación gráfica del consumo de combustible y las emisiones CO2\n",
    "# a través de un gráfico de dispersión.\n",
    "fig = plt.figure()\n",
    "ax = fig.add_subplot()\n",
    "ax = sns.scatterplot(x=df1['CONSUMO_COMBUSTIBLE_COMB'], y=df1['EMISIONES_CO2'], color='darkCyan', ax=ax)\n",
    "ax.grid('dashed')\n",
    "plt.show()"
   ]
  },
  {
   "cell_type": "markdown",
   "metadata": {
    "id": "nMni0CVy4_j8"
   },
   "source": [
    "# Entrenar modelo con Kmeans\n",
    "<img src=\"https://raw.githubusercontent.com/InoveAlumnos/dataset_analytics_python/master/images/Pipeline4.png\" width=\"1000\" align=\"middle\">"
   ]
  },
  {
   "cell_type": "markdown",
   "metadata": {
    "id": "t0X48o-I-TIT"
   },
   "source": [
    "Objetivo: Separar las rectas en conjuntos (clusters) distintos utilizando algún algoritmo de segmentación Kmeans."
   ]
  },
  {
   "cell_type": "code",
   "execution_count": null,
   "metadata": {
    "id": "jmoOAE6-BCij"
   },
   "outputs": [],
   "source": [
    "# Muestra las 5 primeras filas.\n",
    "df1.head()"
   ]
  },
  {
   "cell_type": "code",
   "execution_count": null,
   "metadata": {
    "id": "Jc1CYqd3BHQL"
   },
   "outputs": [],
   "source": [
    "# Eliminar las columnas que contienen datos tipo strings, como: 'AÑO', 'MARCA', 'MODELO', 'CLASE_VEHICULO','TRANSMISION', 'TIPO_COMBUSTIBLE'\n",
    "df2 = df1.drop(['AÑO', 'MARCA', 'MODELO', 'CLASE_VEHICULO','TRANSMISION', 'TIPO_COMBUSTIBLE'], axis=1)\n",
    "df2.head()"
   ]
  },
  {
   "cell_type": "code",
   "execution_count": null,
   "metadata": {
    "id": "T5PeKrtF-XmT"
   },
   "outputs": [],
   "source": [
    "# Recordar que el Kmeans es un algoritmo de agrupamiento, donde no se sabe a que grupo perteneces los datos.\n",
    "# Por lo tanto, el algoritmo requiere toda la información numérica que aporte valor.\n",
    "X_kmeans = df2.values"
   ]
  },
  {
   "cell_type": "code",
   "execution_count": null,
   "metadata": {
    "id": "L60H3KoS__bE"
   },
   "outputs": [],
   "source": [
    "# Entrenar diferentes modelos de Kmeans en un rango de cluster (2, 10)\n",
    "# Conservar el resultado de \"inertial\" para utilizar como métrica de seleccion\n",
    "from sklearn.cluster import KMeans\n",
    "from sklearn.metrics import silhouette_score\n",
    "\n",
    "def find_best_model(X, max_clusters=10):\n",
    "\n",
    "    n_clusters = list(range(2, max_clusters+1)) ## --> [2, 3, 4, 5, 6, 7, 8, 9, 10]\n",
    "    ensayos = len(n_clusters)                   ## --> 9 (Cantidad de elementos en la lista de clusters)\n",
    "\n",
    "    # Arma un array con 9 elementos todos ceros, \n",
    "    # que se sobreescribirán por un lado con los errore \n",
    "    # y por el otro con el score\n",
    "    array_error = np.zeros((ensayos)) ## --> array([0., 0., 0., 0., 0., 0., 0., 0., 0.])\n",
    "    array_score = np.zeros((ensayos)) ## --> array([0., 0., 0., 0., 0., 0., 0., 0., 0.])\n",
    "\n",
    "    for i in range(ensayos): ## --> ensayos = 9\n",
    "        # En cada iteración se entrenará un modelo de Kmeans,\n",
    "        # varieando la cantidad de cluster a medida que itere\n",
    "        # 'k-means++': selecciona los centroides de clúster iniciales.\n",
    "        #  random_state=0, determina la generación de números aleatorios para la inicialización del centroide, al ser cero\n",
    "        # producirá los mismos resultados en diferentes llamadas.\n",
    "        # Entrena con fit\n",
    "        # Calcula el error con kmeans.inertia_, y a su vez se guarda el array_error.\n",
    "        # Calcula el score con silhouette_score(X, kmeans.labels_), y a su vez se guarda el array_score\n",
    "        kmeans = KMeans(n_clusters=n_clusters[i], init=\"k-means++\", random_state=0)\n",
    "        kmeans.fit(X)\n",
    "        array_error[i] = kmeans.inertia_\n",
    "        array_score[i] = silhouette_score(X, kmeans.labels_)\n",
    "\n",
    "    return array_error, array_score, n_clusters"
   ]
  },
  {
   "cell_type": "code",
   "execution_count": null,
   "metadata": {
    "id": "4ts_wjFRAHLb"
   },
   "outputs": [],
   "source": [
    "# Invocamos la función find_best_model, pasándole los valores de X\n",
    "array_error, array_score, n_clusters = find_best_model(X_kmeans)"
   ]
  },
  {
   "cell_type": "code",
   "execution_count": null,
   "metadata": {
    "id": "busPWDIaAOyM"
   },
   "outputs": [],
   "source": [
    "# Dibujar la evolucion del error (inertia) y deteminar el \n",
    "# punto de quiebre (elbow point) para deteminar el mejor k\n",
    "def graficar_punto_codo(array_error, array_score, n_clusters):\n",
    "  # Crea el espacio para dibujar y del gráfico.\n",
    "  fig = plt.figure()\n",
    "  ax = fig.add_subplot()\n",
    "\n",
    "  # Se gráfica dos líneas en un mismo gráfico.\n",
    "  # n_clusters = [2, 3, 4, 5, 6, 7, 8, 9, 10]\n",
    "  # array_error/array_error.max(), divide cada error por el máximo error\n",
    "  ax.plot(n_clusters, array_error/array_error.max(), label='error') \n",
    "  ax.plot(n_clusters, array_score, label='score')\n",
    "  # Grilla de fondo y color\n",
    "  ax.grid('dashed')\n",
    "  # Leyenda\n",
    "  ax.legend()\n",
    "  # Muestra el gráfico\n",
    "  plt.show()\n",
    "\n",
    "  # Mejor cluster, se obtiene por la ubicación del máximo score.\n",
    "  # Para ello, en el array que contiene todos los clusters probados n_clusters\n",
    "  # Accedemos con cortechetes y se le indica el máximo score con argmax() --> array_score.argmax()\n",
    "  best_cluster = n_clusters[array_score.argmax()]\n",
    "  print('El mejor resultado se consigue con clusters=', best_cluster)"
   ]
  },
  {
   "cell_type": "code",
   "execution_count": null,
   "metadata": {
    "id": "0ENrfuz2AR4k"
   },
   "outputs": [],
   "source": [
    "graficar_punto_codo(array_error, array_score, n_clusters)"
   ]
  },
  {
   "cell_type": "code",
   "execution_count": null,
   "metadata": {
    "id": "Xsdm9KMqBzsU"
   },
   "outputs": [],
   "source": [
    "kmeans = KMeans(n_clusters=4, init=\"k-means++\", random_state=0)\n",
    "kmeans.fit(X_kmeans)\n",
    "labels = kmeans.predict(X_kmeans)"
   ]
  },
  {
   "cell_type": "code",
   "execution_count": null,
   "metadata": {
    "id": "mS2nzkX_N__S"
   },
   "outputs": [],
   "source": [
    "# Copia\n",
    "df3 = df2.copy()"
   ]
  },
  {
   "cell_type": "code",
   "execution_count": null,
   "metadata": {
    "id": "MC9AycxbCAsz"
   },
   "outputs": [],
   "source": [
    "# Agregar una nueva columna con el nombre de segmentación, columna que agrupa a cada cliente por \n",
    "# la categoría encontrada en el modelo.\n",
    "df3['segmentacion'] = labels\n",
    "df3.head()"
   ]
  },
  {
   "cell_type": "markdown",
   "metadata": {},
   "source": [
    "### Validar modelo"
   ]
  },
  {
   "cell_type": "code",
   "execution_count": null,
   "metadata": {
    "id": "-np37gAiCaID"
   },
   "outputs": [],
   "source": [
    "# Calcular la exactitud (accuracy) del modelo\n",
    "from sklearn.metrics import silhouette_score\n",
    "silhouette_score (X_kmeans, kmeans.labels_)"
   ]
  },
  {
   "cell_type": "markdown",
   "metadata": {
    "id": "wP37MmZbSTO0"
   },
   "source": [
    "### Evaluar modelo"
   ]
  },
  {
   "cell_type": "code",
   "execution_count": null,
   "metadata": {
    "id": "lVOvvnlSCiMj"
   },
   "outputs": [],
   "source": [
    "# Observar la relación entre el ingreso (income) y el débito\n",
    "# pero ahora coloreando con \"hue\" los puntos según su clase de custseg\n",
    "sns.scatterplot(data=df3, x='CONSUMO_COMBUSTIBLE_COMB', y='EMISIONES_CO2', hue='segmentacion', palette='bright')\n",
    "plt.show()"
   ]
  },
  {
   "cell_type": "code",
   "execution_count": null,
   "metadata": {
    "id": "4FcA6687C4Ir"
   },
   "outputs": [],
   "source": [
    "# Array de prueba\n",
    "X_prueba = pd.DataFrame({'TAMAÑO_MOTOR': [3.0],\t'CILINDROS':[6], 'CONSUMO_COMBUSTIBLE_CIUDAD':[11.5],\n",
    "                         'CONSUMO_COMBUSTIBLE_HWY':[7.9],\t'CONSUMO_COMBUSTIBLE_COMB':[11.9], \n",
    "                         'CONSUMO_COMBUSTIBLE_COMB_MPG':[23], 'EMISIONES_CO2':[200]})\n",
    "\t\t\t\t\t\t\n",
    "# Se utliza el modelo con  kmeans.predict()\n",
    "# Pasandoles los valores \n",
    "labels = kmeans.predict(X_prueba.values)\n",
    "labels"
   ]
  },
  {
   "cell_type": "code",
   "execution_count": null,
   "metadata": {},
   "outputs": [],
   "source": [
    "print(\"Los datos ingresados pertenece al cluster:\", labels[0])"
   ]
  },
  {
   "cell_type": "markdown",
   "metadata": {
    "id": "9KOHZ7tuFFWr"
   },
   "source": [
    "### Conclusión: \n",
    "En este ejemplo, se puede apreciar que el modelo creado con Kmeans agrupa los clusters en forma circular, no estaría separando los datos por cada recta."
   ]
  },
  {
   "cell_type": "markdown",
   "metadata": {
    "id": "v7SvQqDvA480"
   },
   "source": [
    "# Crear un modelo con GaussianMixture\n",
    "<img src=\"https://raw.githubusercontent.com/InoveAlumnos/dataset_analytics_python/master/images/Pipeline4.png\" width=\"1000\" align=\"middle\">"
   ]
  },
  {
   "cell_type": "markdown",
   "metadata": {},
   "source": [
    "Objetivo: Separar las rectas en conjuntos (clusters) distintos utilizando algún algoritmo de segmentación GaussianMixture."
   ]
  },
  {
   "cell_type": "code",
   "execution_count": null,
   "metadata": {
    "id": "2PvdPIBuNua2"
   },
   "outputs": [],
   "source": [
    "# Se hace una copia\n",
    "df4 = df2.copy()"
   ]
  },
  {
   "cell_type": "code",
   "execution_count": null,
   "metadata": {
    "id": "5QSzbIHoJn6b"
   },
   "outputs": [],
   "source": [
    "#Librerias a implementar\n",
    "from sklearn.mixture import GaussianMixture\n",
    "\n",
    "# Se selecciona las columnas relacionadas como: 'CONSUMO_COMBUSTIBLE_COMB', 'EMISIONES_CO2'\n",
    "# De esas columnas sólo se necesita los valores, por eso se usa .values\n",
    "X_gaussian_mixture = df4[['CONSUMO_COMBUSTIBLE_COMB', 'EMISIONES_CO2']].values\n",
    "\n",
    "# Se crea el objeto gmm a partir de la clase GaussianMixture\n",
    "# Donde se especifica los siguientes parámetros:\n",
    "# n_components=3, cantidad de grupos a formar, son 3, para separar los datos por la 3 rectas del gráfico.\n",
    "# covariance_type, cadena que describe el tipo de parámetros de covarianza a utilizar\n",
    "# Es 'full', porque cada componente tiene su propia matriz de covarianza general.\n",
    "gmm = GaussianMixture(n_components=3, covariance_type='full')\n",
    "\n",
    "# Se entrena con fit, los valores de X_gaussian_mixture\n",
    "gmm.fit(X_gaussian_mixture)\n",
    "\n",
    "# Los resultados de la agrupación se guardan en el DataFrame df2, en la columna 'grupo_consumo'\n",
    "gmm_labels = gmm.predict(X_gaussian_mixture)\n",
    "df4[\"grupo_consumo\"] = gmm_labels\n",
    "df4.head()"
   ]
  },
  {
   "cell_type": "markdown",
   "metadata": {
    "id": "vtkS1yIxSUuD"
   },
   "source": [
    "### Evaluar modelo"
   ]
  },
  {
   "cell_type": "code",
   "execution_count": null,
   "metadata": {
    "id": "1C10aOCbOiCE"
   },
   "outputs": [],
   "source": [
    "# Observar la relación entre el 'CONSUMO_COMBUSTIBLE_COMB' y 'EMISIONES_CO2'\n",
    "# pero ahora coloreando con \"hue\" los puntos según su clase de \"grupo_consumo\"\n",
    "sns.scatterplot(data=df4, x='CONSUMO_COMBUSTIBLE_COMB', y='EMISIONES_CO2', hue='grupo_consumo', palette='bright')\n",
    "plt.show()"
   ]
  },
  {
   "cell_type": "markdown",
   "metadata": {},
   "source": [
    "### Validar modelo"
   ]
  },
  {
   "cell_type": "code",
   "execution_count": null,
   "metadata": {},
   "outputs": [],
   "source": [
    "# Calcular la exactitud (accuracy) del modelo\n",
    "from sklearn.metrics import silhouette_score\n",
    "silhouette_score (X_gaussian_mixture, gmm_labels)"
   ]
  },
  {
   "cell_type": "markdown",
   "metadata": {
    "id": "PBjxoeD6P_0T"
   },
   "source": [
    "### Conclusión: \n",
    "En este ejemplo, se puede apreciar que el modelo creado con GaussianMixture agrupa los datos por cada recta que le corresponde. Aunque la métrica score de la silueta da más baja que en Kmeans, se acerca más al propósito que buscamos que es separar los vehículos en 3 grupos para aplicar proximamente una regresión linea."
   ]
  },
  {
   "cell_type": "markdown",
   "metadata": {},
   "source": [
    "# Conclusión\n",
    "<img src=\"https://raw.githubusercontent.com/InoveAlumnos/dataset_analytics_python/master/images/Pipeline7.png\" width=\"1000\" align=\"middle\">"
   ]
  },
  {
   "cell_type": "markdown",
   "metadata": {},
   "source": [
    "El Kmeans tiene mejor desempeño en cuanto a las métricas, pero el GaussianMixture separa los datos de la manera en la que nosotros los necesitamos. Utilizaremos proximamente este ejemplo para aplicar una regresión lineal por grupos."
   ]
  }
 ],
 "metadata": {
  "colab": {
   "authorship_tag": "ABX9TyNMM0YdvzNvwZLUt8KKPiKY",
   "provenance": [],
   "toc_visible": true
  },
  "kernelspec": {
   "display_name": "Python 3",
   "language": "python",
   "name": "python3"
  },
  "language_info": {
   "codemirror_mode": {
    "name": "ipython",
    "version": 3
   },
   "file_extension": ".py",
   "mimetype": "text/x-python",
   "name": "python",
   "nbconvert_exporter": "python",
   "pygments_lexer": "ipython3",
   "version": "3.8.10"
  }
 },
 "nbformat": 4,
 "nbformat_minor": 4
}
