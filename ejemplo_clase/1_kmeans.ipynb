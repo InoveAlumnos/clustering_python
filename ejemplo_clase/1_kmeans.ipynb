{
 "cells": [
  {
   "cell_type": "markdown",
   "metadata": {
    "id": "Ea9CPlvttQda"
   },
   "source": [
    "<a href=\"https://www.inove.com.ar\"><img src=\"https://raw.githubusercontent.com/InoveAlumnos/dataset_analytics_python/master/images/PA%20Banner.png\" width=\"1000\" align=\"center\"></a>\n",
    "\n",
    "\n",
    "# Clustering con kmeans\n",
    "\n",
    "Crear un modelo de segmentación para la estimación de los tipos de clientes según su hábito de compras, ingresos, edad, etc<br>\n",
    "v2.0"
   ]
  },
  {
   "cell_type": "markdown",
   "metadata": {
    "id": "a4tKOkgbkVuf"
   },
   "source": [
    "### Objetivos: \n",
    "*   Preprocesar los datos (descarga, lectura, limplieza y filtrado).\n",
    "*   Conocer como funciona el algoritmo kmeans.\n",
    "*   Evaluar el resultado el algoritmo kmeans.\n",
    "\n",
    "\n",
    "\n",
    "**k-means:** Algoritmo de agrupacmiento, que selecciona los centroides de clúster iniciales utilizando un muestreo basado en una distribución de probabilidad empírica de la contribución de los puntos a la inercia genera."
   ]
  },
  {
   "cell_type": "code",
   "execution_count": null,
   "metadata": {
    "id": "xJN8ND5ctQdc"
   },
   "outputs": [],
   "source": [
    "#Librerias a implementar\n",
    "import os\n",
    "import platform\n",
    " \n",
    "import numpy as np\n",
    "import matplotlib.pyplot as plt\n",
    "import seaborn as sns\n",
    "import pandas as pd"
   ]
  },
  {
   "cell_type": "markdown",
   "metadata": {
    "id": "v-jK-TsQCwW9"
   },
   "source": [
    "# Recolectar datos\n",
    "<div align=\"center\"><img src=\"https://raw.githubusercontent.com/InoveAlumnos/dataset_analytics_python/master/images/Pipeline1.png\" width=\"1000\" align=\"middle\"></div>"
   ]
  },
  {
   "cell_type": "markdown",
   "metadata": {
    "id": "sOx2l_nlllOH"
   },
   "source": [
    "### Código de descarga del dataset"
   ]
  },
  {
   "cell_type": "code",
   "execution_count": null,
   "metadata": {
    "id": "E7lED92mqYMN"
   },
   "outputs": [],
   "source": [
    "if os.access('Cust_Segmentation.csv', os.F_OK) is False:\n",
    "    if platform.system() == 'Windows':\n",
    "        !curl https://raw.githubusercontent.com/InoveAlumnos/dataset_analytics_python/master/Cust_Segmentation.csv > Cust_Segmentation.csv\n",
    "    else:\n",
    "        !wget Mall_Customers.csv https://raw.githubusercontent.com/InoveAlumnos/dataset_analytics_python/master/Cust_Segmentation.csv"
   ]
  },
  {
   "cell_type": "markdown",
   "metadata": {
    "id": "7hYHWckmsssa"
   },
   "source": [
    "### `Cust_Segmentation.csv`:\n",
    "El dataset **`Cust_Segmentation.csv`** contiene datos sobre personas, sus hábitos de consumo, edad, etc, los cuales pueden ser utilizados para dirigir una campaña de publicidad o de ventas.<br>\n",
    "[Dataset source](https://www.kaggle.com/gangliu/custdatasets)\n",
    "- **CustomerID** --> id del comprador, ejemplo 5\n",
    "- **Age** --> edad\n",
    "- **Edu** --> Nivel de educación\n",
    "- **Years Emplyed** --> Años que lleva trabajando\n",
    "- **Income** --> ingreso de dinero anual de la persona en miles de dolares\n",
    "- **Card Debt** --> Débitos de la tarjeta (gastos)\n",
    "- **Other Debt** --> Otros gastos\n",
    "- **Defaulted** --> Deudor (0 --> No), (1 --> Si)\n",
    "- **Adress** --> Dirección\n",
    "- **DebtIncomeRatio** --> que tan gastador es la persona"
   ]
  },
  {
   "cell_type": "code",
   "execution_count": null,
   "metadata": {
    "id": "GChnsEZeszqi"
   },
   "outputs": [],
   "source": [
    "# Lectura del dataset con Pandas (pd) y el método read_cdv\n",
    "df = pd.read_csv(\"Cust_Segmentation.csv\")\n",
    "\n",
    "# Muestra las 5 primelas filas\n",
    "df.head()"
   ]
  },
  {
   "cell_type": "code",
   "execution_count": null,
   "metadata": {
    "id": "nobfRqDApqTg"
   },
   "outputs": [],
   "source": [
    "# Se hace una copia para cambiar los nombres de las columnas y no modificar el DataFrame original.\n",
    "df1 = df.copy()\n",
    "\n",
    "# De df1 se accede al atributo columns para cambiar los nombres de las columnas del DataFrame\n",
    "df1.columns = ['id_cliente', 'edad', 'nivel_educacion', 'años_empleado', 'ingreso', 'gastos_tarjeta', 'otros_gastos', 'deudor', 'direccion', 'gastador']"
   ]
  },
  {
   "cell_type": "markdown",
   "metadata": {
    "id": "Q5I6l8ZCFaZ8"
   },
   "source": [
    "# Procesar datos\n",
    "<div align=\"center\"><img src=\"https://raw.githubusercontent.com/InoveAlumnos/dataset_analytics_python/master/images/Pipeline2.png\" width=\"1000\" align=\"middle\"></div>"
   ]
  },
  {
   "cell_type": "code",
   "execution_count": null,
   "metadata": {
    "id": "Pp6NRggps5UE"
   },
   "outputs": [],
   "source": [
    "# inspeccione el dataset, visualice las columnas que posee y sus primeras filas\n",
    "# Ver que columnas son categóricas y numéricas\n",
    "df1.head()"
   ]
  },
  {
   "cell_type": "code",
   "execution_count": null,
   "metadata": {
    "id": "7Sx5a9IetWLs"
   },
   "outputs": [],
   "source": [
    "# Los algoritmos de clustering no funcionan bien con las variables categóricas, \n",
    "# obtener un nuevo dataset (df2) sin la columna 'id_cliente', 'deudor', 'direccion' \n",
    "# La coulmna \"Edu\" se puede considerar como numérica no categórica, porque\n",
    "# cuanto más alto su valor mayor nivel de educación tiene la persona, por lo que\n",
    "# los \"números\" tiene un significado\n",
    "df2 = df1.drop(['id_cliente', 'deudor', 'direccion'], axis=1)\n",
    "df2.head()"
   ]
  },
  {
   "cell_type": "code",
   "execution_count": null,
   "metadata": {
    "id": "fQ3bTC9Ot5-h"
   },
   "outputs": [],
   "source": [
    "# Realizar una inspeccion del dataset en búsqueda de elementos faltantes\n",
    "# Una vez descargado el archivo en Colab.\n",
    "# Leerlo con Pandas y el método read_csv\n",
    "# Una vez extraida toda la información se almacena en df\n",
    "# A partir de df y el método describe(), mostrará la descripción estadistica básica del archivo que se guardará en des\n",
    "# Crear una fila nueva llamada Nan en el DataFrame  des,\n",
    "# que indica la cantidad de datos tipo Nan que tiene cada columna.\n",
    "# Para crear una nueva fila, se utilizará el operador loc, donde se indica el nombre\n",
    "# de la nueva fila y con que valores se completará.\n",
    "# La información será de los datos faltantes df.isna().sum()\n",
    "# Crear una fila nueva llamada %Nan en el DataFrame des,\n",
    "# Esta fila se completará con los porcentajes de Nan encontrados en cada columna.\n",
    "des = df2.describe()\n",
    "des.loc['Nan'] = df2.isna().sum()\n",
    "des.loc['%Nan'] = (df2.isna().mean())*100\n",
    "des"
   ]
  },
  {
   "cell_type": "code",
   "execution_count": null,
   "metadata": {
    "id": "x88JG9AOeJzx"
   },
   "outputs": [],
   "source": [
    "# Cantidad de filas y columnas con shape\n",
    "# En la ubicación 0 corresponde a las filas\n",
    "print('Datos disponibles para analizar: ', df2.shape[0])"
   ]
  },
  {
   "cell_type": "markdown",
   "metadata": {
    "id": "8T_3enyVHYJa"
   },
   "source": [
    "# Explorar datos\n",
    "<div align=\"center\"><img src=\"https://raw.githubusercontent.com/InoveAlumnos/dataset_analytics_python/master/images/Pipeline3.png\" width=\"1000\" align=\"middle\"></div>"
   ]
  },
  {
   "cell_type": "code",
   "execution_count": null,
   "metadata": {
    "id": "AT6v5vGXhfTl"
   },
   "outputs": [],
   "source": [
    "# Observar todas las relaciones entre todos los features, utilizar pairplot\n",
    "# sns, alias de Seaborn\n",
    "sns.pairplot(df2)\n",
    "plt.show()"
   ]
  },
  {
   "cell_type": "markdown",
   "metadata": {
    "id": "8MnYWoeX-UFj"
   },
   "source": [
    "A simple vista es muy dificil distingir grupos relacionando solo dos variables. \n",
    "\n",
    "Confiaremos en el algoritmo de clustering y utilizaremos todo los features de entrada"
   ]
  },
  {
   "cell_type": "markdown",
   "metadata": {
    "id": "2gRIv88AKfQY"
   },
   "source": [
    "# Entrenar modelo\n",
    "<div align=\"center\"><img src=\"https://raw.githubusercontent.com/InoveAlumnos/dataset_analytics_python/master/images/Pipeline4.png\" width=\"1000\" align=\"middle\"></div>"
   ]
  },
  {
   "cell_type": "code",
   "execution_count": null,
   "metadata": {
    "id": "vstdWr9uiMEr"
   },
   "outputs": [],
   "source": [
    "# Crear un numpy array \"X\" con los features de entrada\n",
    "# Se analizó si era conveniente realizar la normalización de datos, cuando se\n",
    "# ensayó se obtuvo un peor resultado. Cuando se realiza clustering hay que tener\n",
    "# cuidado que el proceso de normalización puede afectar la distribución\n",
    "# de los datos y por lo tanto alterar el resultado (es cuestión de probar)\n",
    "# from sklearn.preprocessing import StandardScaler\n",
    "# df3 = df2.copy()\n",
    "# X = StandardScaler().fit_transform(df3)\n",
    "X = df2.values"
   ]
  },
  {
   "cell_type": "markdown",
   "metadata": {
    "id": "dD2Qeok9ybNx"
   },
   "source": [
    "#### Crear un modelo de segmentación con Kmeans\n",
    "Parámetros\n",
    "- n_clusters --> (k) número de clusters/grupos (defecto 5)\n",
    "- init --> método utilizado para determinar donde comienzan los clusters\n",
    " - k-means++ --> mecanismo inteligente para determinar el comienzo (defecto)\n",
    " - random --> los centros se determinan aleatoriamente\n",
    "- max_iter --> cantidad de iteración (defecto 300)"
   ]
  },
  {
   "cell_type": "markdown",
   "metadata": {
    "id": "tBxzEqb5BWyg"
   },
   "source": [
    "La inertia mide qué tan bien K-Means agrupa un conjunto de datos. Se calcula midiendo la distancia entre cada punto de datos y su centroide, elevando al cuadrado esta distancia y sumando estos cuadrados en un grupo.\n",
    "\n",
    "Un buen modelo es uno con baja inertia.\n",
    "\n",
    "Fuente: https://scikit-learn.org/stable/modules/generated/sklearn.cluster.KMeans.html"
   ]
  },
  {
   "cell_type": "markdown",
   "metadata": {
    "id": "BIyhmBFndOCL"
   },
   "source": [
    "La idea es buscar la cantidad de clusters. Para ello, se debe entrenar diferentes modelos de Kmeans."
   ]
  },
  {
   "cell_type": "code",
   "execution_count": null,
   "metadata": {
    "id": "k5K0rKwthUqy"
   },
   "outputs": [],
   "source": [
    "# Entrenar diferentes modelos de Kmeans en un rango de cluster (2, 10)\n",
    "# Conservar el resultado de \"inertial\" para utilizar como métrica de seleccion\n",
    "from sklearn.cluster import KMeans\n",
    "from sklearn.metrics import silhouette_score\n",
    "\n",
    "def find_best_model(X, max_clusters=10):\n",
    "\n",
    "    n_clusters = list(range(2, max_clusters+1)) ## --> [2, 3, 4, 5, 6, 7, 8, 9, 10]\n",
    "    ensayos = len(n_clusters)                   ## --> 9 (Cantidad de elementos en la lista de clusters)\n",
    "\n",
    "    # Arma un array con 9 elementos todos ceros, \n",
    "    # que se sobreescribirán por un lado con los errore \n",
    "    # y por el otro con el score\n",
    "    array_error = np.zeros((ensayos)) ## --> array([0., 0., 0., 0., 0., 0., 0., 0., 0.])\n",
    "    array_score = np.zeros((ensayos)) ## --> array([0., 0., 0., 0., 0., 0., 0., 0., 0.])\n",
    "\n",
    "    for i in range(ensayos): ## --> ensayos = 9\n",
    "        # En cada iteración se entrenará un modelo de Kmeans,\n",
    "        # varieando la cantidad de cluster a medida que itere\n",
    "        # 'k-means++': selecciona los centroides de clúster iniciales.\n",
    "        #  random_state=0, determina la generación de números aleatorios para la inicialización del centroide, al ser cero\n",
    "        # producirá los mismos resultados en diferentes llamadas.\n",
    "        # Entrena con fit\n",
    "        # Calcula el error con kmeans.inertia_, y a su vez se guarda el array_error.\n",
    "        # Calcula el score con silhouette_score(X, kmeans.labels_), y a su vez se guarda el array_score\n",
    "        kmeans = KMeans(n_clusters=n_clusters[i], init=\"k-means++\", random_state=0)\n",
    "        kmeans.fit(X)\n",
    "        array_error[i] = kmeans.inertia_\n",
    "        array_score[i] = silhouette_score(X, kmeans.labels_)\n",
    "\n",
    "    return array_error, array_score, n_clusters\n",
    "\n",
    "    "
   ]
  },
  {
   "cell_type": "code",
   "execution_count": null,
   "metadata": {
    "id": "otCCSPvP8wFR"
   },
   "outputs": [],
   "source": [
    "# Invocamos la función find_best_model, pasándole los valores de X\n",
    "array_error, array_score, n_clusters = find_best_model(X)"
   ]
  },
  {
   "cell_type": "code",
   "execution_count": null,
   "metadata": {
    "id": "lQNqSkpL3bSZ"
   },
   "outputs": [],
   "source": [
    "# Dibujar la evolucion del error (inertia) y deteminar el \n",
    "# punto de quiebre (elbow point) para deteminar el mejor k\n",
    "def graficar_punto_codo(array_error, array_score, n_clusters):\n",
    "  # Crea el espacio para dibujar y del gráfico.\n",
    "  fig = plt.figure()\n",
    "  ax = fig.add_subplot()\n",
    "\n",
    "  # Se gráfica dos líneas en un mismo gráfico.\n",
    "  # n_clusters = [2, 3, 4, 5, 6, 7, 8, 9, 10]\n",
    "  # array_error/array_error.max(), divide cada error por el máximo error\n",
    "  ax.plot(n_clusters, array_error/array_error.max(), label='error') \n",
    "  ax.plot(n_clusters, array_score, label='score')\n",
    "  # Grilla de fondo y color\n",
    "  ax.grid('dashed')\n",
    "  # Leyenda\n",
    "  ax.legend()\n",
    "  # Muestra el gráfico\n",
    "  plt.show()\n",
    "\n",
    "  # Mejor cluster, se obtiene por la ubicación del máximo score.\n",
    "  # Para ello, en el array que contiene todos los clusters probados n_clusters\n",
    "  # Accedemos con cortechetes y se le indica el máximo score con argmax() --> array_score.argmax()\n",
    "  best_cluster = n_clusters[array_score.argmax()]\n",
    "  print('El mejor resultado se consigue con clusters=', best_cluster)\n"
   ]
  },
  {
   "cell_type": "code",
   "execution_count": null,
   "metadata": {
    "id": "tHdPrPRKhEj0"
   },
   "outputs": [],
   "source": [
    "graficar_punto_codo(array_error, array_score, n_clusters)"
   ]
  },
  {
   "cell_type": "markdown",
   "metadata": {
    "id": "oC65t2wMgdrT"
   },
   "source": [
    "*   No se obtuvo un resultado muy bueno.\n",
    "*   Al observar el gráfico el punto de codo (elbow) figura en K=4."
   ]
  },
  {
   "cell_type": "code",
   "execution_count": null,
   "metadata": {
    "id": "2Dt6WEUEAkvU"
   },
   "outputs": [],
   "source": [
    "# En este caso, intentaremos eliminar dos columnas más; 'años_empleado', 'edad'\n",
    "# Y se volverá a llamar a la función  find_best_model para entrenar con las columnas que quedaron.\n",
    "df4 = df2.drop(['años_empleado', 'edad'], axis=1)\n",
    "X2 = df4.values\n",
    "\n",
    "array_error2, array_score2, n_clusters2 = find_best_model(X2)"
   ]
  },
  {
   "cell_type": "code",
   "execution_count": null,
   "metadata": {
    "id": "xDWcJ5B9gnzr"
   },
   "outputs": [],
   "source": [
    "graficar_punto_codo(array_error2, array_score2, n_clusters2)"
   ]
  },
  {
   "cell_type": "markdown",
   "metadata": {
    "id": "6EwAbifKB1tM"
   },
   "source": [
    "Reduciendo un poco los features se obtuvo un mejor modelo, aún el punto de codo no coincide con k=4, pero se ve claramente que ese el punto indicado."
   ]
  },
  {
   "cell_type": "code",
   "execution_count": null,
   "metadata": {
    "id": "fivxbc9PEFOu"
   },
   "outputs": [],
   "source": [
    "# Entrenar el modelo con el mejor K (el punto de codo)\n",
    "kmeans = KMeans(n_clusters=4, init=\"k-means++\", random_state=0)\n",
    "kmeans.fit(X2)\n",
    "labels = kmeans.predict(X2)"
   ]
  },
  {
   "cell_type": "code",
   "execution_count": null,
   "metadata": {
    "id": "ad76vntQ1jzs"
   },
   "outputs": [],
   "source": [
    "# Agregar una nueva columna con el nombre de segmentación, columna que agrupa a cada cliente por \n",
    "# la categoría encontrada en el modelo.\n",
    "df4['segmentacion'] = labels\n",
    "df4.head()"
   ]
  },
  {
   "cell_type": "markdown",
   "metadata": {
    "id": "Y1HVAZeONzsu"
   },
   "source": [
    "# Validar modelo\n",
    "<img src=\"https://raw.githubusercontent.com/InoveAlumnos/dataset_analytics_python/master/images/Pipeline5.png\" width=\"1000\" align=\"middle\">"
   ]
  },
  {
   "cell_type": "code",
   "execution_count": null,
   "metadata": {
    "id": "SNyj1SjfMZso"
   },
   "outputs": [],
   "source": [
    "# Calcular la exactitud (accuracy) del modelo\n",
    "from sklearn.metrics import silhouette_score\n",
    "silhouette_score (X2, kmeans.labels_)"
   ]
  },
  {
   "cell_type": "markdown",
   "metadata": {
    "id": "JZZbCJICOFjb"
   },
   "source": [
    "# Utilizar modelo\n",
    "<img src=\"https://raw.githubusercontent.com/InoveAlumnos/dataset_analytics_python/master/images/Pipeline6.png\" width=\"1000\" align=\"middle\">"
   ]
  },
  {
   "cell_type": "code",
   "execution_count": null,
   "metadata": {
    "id": "5MTrobSpCY85"
   },
   "outputs": [],
   "source": [
    "# Observar todas las relaciones entre todos los features, utilizar pairplot\n",
    "sns.pairplot(df4, hue='segmentacion', palette='bright')\n",
    "plt.show()"
   ]
  },
  {
   "cell_type": "code",
   "execution_count": null,
   "metadata": {
    "id": "Si_GLqaRN-nK"
   },
   "outputs": [],
   "source": [
    "# Observar la relación entre el ingreso y gastos_tarjeta\n",
    "# pero ahora coloreando con \"hue\" los puntos según su clase de segmentacion\n",
    "sns.scatterplot(data=df4, x='ingreso', y='gastos_tarjeta', hue='segmentacion', palette='bright')\n",
    "plt.show()"
   ]
  },
  {
   "cell_type": "markdown",
   "metadata": {
    "id": "2UQS0HBLDB1q"
   },
   "source": [
    "Se puede ve que no existe una relación lineal entre ingreso y gastos_tarjeta"
   ]
  },
  {
   "cell_type": "code",
   "execution_count": null,
   "metadata": {
    "id": "2QXWoKaBldSc"
   },
   "outputs": [],
   "source": [
    "# Array de prueba\n",
    "X_prueba = pd.DataFrame({'nivel_educacion': [1],\t'ingreso':[20], 'gastos_tarjeta':[0.1952],\t'otros_gastos':[1.123],\t'gastador':[8.9]})\n",
    "\n",
    "# Se utliza el modelo con  kmeans.predict()\n",
    "# Pasandoles los valores \n",
    "labels = kmeans.predict(X_prueba.values)\n",
    "labels"
   ]
  },
  {
   "cell_type": "code",
   "execution_count": null,
   "metadata": {},
   "outputs": [],
   "source": [
    "print(\"Los datos ingresados pertenece al cluster:\", labels[0])"
   ]
  },
  {
   "cell_type": "markdown",
   "metadata": {
    "id": "rxrEmYNoHMqh"
   },
   "source": [
    "# Conclusión\n",
    "<img src=\"https://raw.githubusercontent.com/InoveAlumnos/dataset_analytics_python/master/images/Pipeline7.png\" width=\"1000\" align=\"middle\">"
   ]
  },
  {
   "cell_type": "markdown",
   "metadata": {
    "id": "oRrb3jnrHNvM"
   },
   "source": [
    "La conclusión, es que se puede observar en el último gráfico que a mayor ingreso las personas gastan más."
   ]
  },
  {
   "cell_type": "code",
   "execution_count": null,
   "metadata": {
    "id": "f2jT-mC8Hi58"
   },
   "outputs": [],
   "source": [
    "# Analizar la distribución de los gastos_tarjeta en el dataset, a través de un gráfico de caja\n",
    "fig = plt.figure(figsize=(16, 9))\n",
    "ax = fig.add_subplot()\n",
    "sns.boxplot(x=df4['gastos_tarjeta'], ax=ax)\n",
    "ax.grid('dashed')"
   ]
  },
  {
   "cell_type": "markdown",
   "metadata": {
    "id": "yrg01a4LHmK_"
   },
   "source": [
    "En conclusión, se nota que los datos no están balanceados en su totalidad  y que hay un grupo importante de ingresos muy alto. Pero que el modelo pudo agrupar. "
   ]
  }
 ],
 "metadata": {
  "colab": {
   "provenance": [],
   "toc_visible": true
  },
  "kernelspec": {
   "display_name": "Python 3",
   "language": "python",
   "name": "python3"
  },
  "language_info": {
   "codemirror_mode": {
    "name": "ipython",
    "version": 3
   },
   "file_extension": ".py",
   "mimetype": "text/x-python",
   "name": "python",
   "nbconvert_exporter": "python",
   "pygments_lexer": "ipython3",
   "version": "3.8.10"
  }
 },
 "nbformat": 4,
 "nbformat_minor": 4
}
